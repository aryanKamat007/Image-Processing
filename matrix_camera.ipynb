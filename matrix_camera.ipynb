{
  "nbformat": 4,
  "nbformat_minor": 0,
  "metadata": {
    "colab": {
      "provenance": [],
      "authorship_tag": "ABX9TyPSQJHferl205syjJML0R0J",
      "include_colab_link": true
    },
    "kernelspec": {
      "name": "python3",
      "display_name": "Python 3"
    },
    "language_info": {
      "name": "python"
    }
  },
  "cells": [
    {
      "cell_type": "markdown",
      "metadata": {
        "id": "view-in-github",
        "colab_type": "text"
      },
      "source": [
        "<a href=\"https://colab.research.google.com/github/aryanKamat007/Image-Processing/blob/main/matrix_camera.ipynb\" target=\"_parent\"><img src=\"https://colab.research.google.com/assets/colab-badge.svg\" alt=\"Open In Colab\"/></a>"
      ]
    },
    {
      "cell_type": "code",
      "execution_count": null,
      "metadata": {
        "id": "EzYYO-i2uYPu"
      },
      "outputs": [],
      "source": [
        "import cv2\n",
        "import numpy as np\n",
        "\n",
        "def find_checkerboard_corners(image, pattern_size):\n",
        "    gray = cv2.cvtColor(image, cv2.COLOR_BGR2GRAY)\n",
        "    ret, corners = cv2.findChessboardCorners(gray, pattern_size, None)\n",
        "\n",
        "    if ret:\n",
        "        return corners\n",
        "    else:\n",
        "        print(\"Checkerboard pattern not found in the image.\")\n",
        "        return None\n",
        "\n",
        "def calibrate_camera(image, pattern_size):\n",
        "    corners = find_checkerboard_corners(image, pattern_size)\n",
        "\n",
        "    if corners is not None:\n",
        "        obj_points = []  # 3D points in real world space\n",
        "        img_points = []  # 2D points in image plane\n",
        "\n",
        "        # Prepare object points, like (0,0,0), (1,0,0), (2,0,0), ..., (pattern_size[0]-1, pattern_size[1]-1, 0)\n",
        "        objp = np.zeros((pattern_size[0] * pattern_size[1], 3), np.float32)\n",
        "        objp[:, :2] = np.mgrid[0:pattern_size[0], 0:pattern_size[1]].T.reshape(-1, 2)\n",
        "\n",
        "        obj_points.append(objp)\n",
        "        img_points.append(corners)\n",
        "\n",
        "        ret, mtx, dist, rvecs, tvecs = cv2.calibrateCamera(obj_points, img_points, gray.shape[::-1], None, None)\n",
        "\n",
        "        return mtx\n",
        "    else:\n",
        "        return None\n",
        "\n",
        "def main():\n",
        "    # Input image path\n",
        "    image_path = (\"/content/vincent-van-zalinge-vUNQaTtZeOo-unsplash.jpg\")\n",
        "\n",
        "    # Load input image\n",
        "    input_image = cv2.imread(image_path)\n",
        "\n",
        "    if input_image is not None:\n",
        "        # Define the size of the checkerboard pattern\n",
        "        pattern_size = (9, 6)  # Change this according to your calibration pattern\n",
        "\n",
        "        # Calibrate the camera\n",
        "        camera_matrix = calibrate_camera(input_image, pattern_size)\n",
        "\n",
        "        if camera_matrix is not None:\n",
        "            # Print the camera matrix\n",
        "            print(\"Camera matrix (K):\\n\", camera_matrix)\n",
        "        else:\n",
        "            print(\"Failed to calibrate the camera. Make sure the checkerboard pattern is visible in the image.\")\n",
        "    else:\n",
        "        print(\"Failed to load the input image. Please check the file path.\")\n",
        "\n",
        "if __name__ == \"__main__\":\n",
        "    main()"
      ]
    },
    {
      "cell_type": "code",
      "source": [],
      "metadata": {
        "id": "VQw-FLt-urir"
      },
      "execution_count": null,
      "outputs": []
    }
  ]
}